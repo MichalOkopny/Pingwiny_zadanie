{
  "cells": [
    {
      "cell_type": "markdown",
      "source": [
        "**Wczytywanie i czyszczenie danych**"
      ],
      "metadata": {
        "id": "xC6B1ggz86QI"
      }
    },
    {
      "cell_type": "code",
      "execution_count": 37,
      "metadata": {
        "id": "q4YRCDgFYrtV"
      },
      "outputs": [],
      "source": [
        "import pandas as pd\n",
        "\n",
        "\n",
        "file_path = 'pingwiny 2.csv'"
      ]
    },
    {
      "cell_type": "code",
      "execution_count": 38,
      "metadata": {
        "colab": {
          "base_uri": "https://localhost:8080/"
        },
        "id": "kn4iy8EoYrtW",
        "outputId": "451af97a-9c05-4a75-df19-81bb146f859d"
      },
      "outputs": [
        {
          "output_type": "stream",
          "name": "stdout",
          "text": [
            "Index(['gatunek', 'wyspa', 'dlugosc_dzioba_mm', 'szerokosc_dzioba_mm',\n",
            "       'dlugosc_pletwy_mm', 'masa_ciala_g', 'plec'],\n",
            "      dtype='object')\n"
          ]
        }
      ],
      "source": [
        "data = pd.read_csv(file_path, sep=';', engine='python')\n",
        "data = data.replace(',', '.', regex=True)\n",
        "data.columns = data.columns.str.strip()\n",
        "print(data.columns)"
      ]
    },
    {
      "cell_type": "code",
      "execution_count": 39,
      "metadata": {
        "id": "Q4P8Km1sYrtX"
      },
      "outputs": [],
      "source": [
        "columns_to_convert = ['dlugosc_dzioba_mm', 'szerokosc_dzioba_mm']"
      ]
    },
    {
      "cell_type": "code",
      "execution_count": 40,
      "metadata": {
        "id": "fhDQaHX9YrtY"
      },
      "outputs": [],
      "source": [
        "for col in columns_to_convert:\n",
        "    if col in data.columns:\n",
        "        data[col] = pd.to_numeric(data[col], errors='coerce')\n",
        "    else:\n",
        "        print(f\"Kolumna '{col}' nie została znaleziona.\")"
      ]
    },
    {
      "cell_type": "code",
      "execution_count": 41,
      "metadata": {
        "colab": {
          "base_uri": "https://localhost:8080/"
        },
        "id": "p5Qc3xVcYrtY",
        "outputId": "a1d5a4ff-8dcc-4269-ae81-032364ed8488"
      },
      "outputs": [
        {
          "output_type": "stream",
          "name": "stdout",
          "text": [
            "['gatunek', 'wyspa', 'dlugosc_dzioba_mm', 'szerokosc_dzioba_mm', 'dlugosc_pletwy_mm', 'masa_ciala_g', 'plec']\n"
          ]
        }
      ],
      "source": [
        "print(data.columns.tolist())"
      ]
    },
    {
      "cell_type": "code",
      "execution_count": 42,
      "metadata": {
        "colab": {
          "base_uri": "https://localhost:8080/"
        },
        "id": "hfyDvpRpYrtY",
        "outputId": "48356045-29fc-4246-f9b4-5cdb78ba536c"
      },
      "outputs": [
        {
          "output_type": "stream",
          "name": "stdout",
          "text": [
            "                                 gatunek   wyspa  dlugosc_dzioba_mm  \\\n",
            "0  Pingwin bialobrewy (Pygoscelis papua)  Biscoe               42.0   \n",
            "1  Pingwin bialobrewy (Pygoscelis papua)  Biscoe               46.5   \n",
            "2  Pingwin bialobrewy (Pygoscelis papua)  Biscoe               47.5   \n",
            "3  Pingwin bialobrewy (Pygoscelis papua)  Biscoe               43.3   \n",
            "4  Pingwin bialobrewy (Pygoscelis papua)  Biscoe               45.5   \n",
            "\n",
            "   szerokosc_dzioba_mm  dlugosc_pletwy_mm  masa_ciala_g    plec  \n",
            "0                 13.5                210          4150  SAMICA  \n",
            "1                 13.5                210          4550  SAMICA  \n",
            "2                 14.0                212          4875  SAMICA  \n",
            "3                 14.0                208          4575  SAMICA  \n",
            "4                 14.5                212          4750  SAMICA  \n"
          ]
        }
      ],
      "source": [
        "data['dlugosc_dzioba_mm'] = pd.to_numeric(data['dlugosc_dzioba_mm'], errors='coerce')\n",
        "data['szerokosc_dzioba_mm'] = pd.to_numeric(data['szerokosc_dzioba_mm'], errors='coerce')\n",
        "data['dlugosc_pletwy_mm'] = pd.to_numeric(data['dlugosc_pletwy_mm'], errors='coerce')\n",
        "data['masa_ciala_g'] = pd.to_numeric(data['masa_ciala_g'], errors='coerce')\n",
        "print(data.head())"
      ]
    },
    {
      "cell_type": "markdown",
      "source": [
        "**Model regresji liniowej**"
      ],
      "metadata": {
        "id": "BL5hjfA49Kmu"
      }
    },
    {
      "cell_type": "code",
      "execution_count": 43,
      "metadata": {
        "id": "6zgVHkGtYrtZ"
      },
      "outputs": [],
      "source": [
        "import statsmodels.api as sm\n",
        "\n",
        "\n",
        "data = data.dropna(subset=['masa_ciala_g', 'dlugosc_dzioba_mm', 'szerokosc_dzioba_mm', 'dlugosc_pletwy_mm'])\n",
        "\n"
      ]
    },
    {
      "cell_type": "code",
      "source": [
        "y = data['masa_ciala_g']\n",
        "\n",
        "# Zmienne niezależne\n",
        "X = data[['dlugosc_dzioba_mm', 'szerokosc_dzioba_mm', 'dlugosc_pletwy_mm']]\n",
        "\n",
        "# Dodanie stałej\n",
        "X = sm.add_constant(X)\n",
        "\n",
        "# Dopasowanie modelu regresji liniowej\n",
        "model = sm.OLS(y, X).fit()"
      ],
      "metadata": {
        "id": "wgsphky1ZDoV"
      },
      "execution_count": 44,
      "outputs": []
    },
    {
      "cell_type": "code",
      "source": [
        "print(model.summary())"
      ],
      "metadata": {
        "colab": {
          "base_uri": "https://localhost:8080/"
        },
        "id": "KXcSR_W0ZHTM",
        "outputId": "35d1f815-60d1-48b3-9d61-0166c84088c8"
      },
      "execution_count": 45,
      "outputs": [
        {
          "output_type": "stream",
          "name": "stdout",
          "text": [
            "                            OLS Regression Results                            \n",
            "==============================================================================\n",
            "Dep. Variable:           masa_ciala_g   R-squared:                       0.761\n",
            "Model:                            OLS   Adj. R-squared:                  0.759\n",
            "Method:                 Least Squares   F-statistic:                     359.7\n",
            "Date:                Sat, 25 Jan 2025   Prob (F-statistic):          8.19e-105\n",
            "Time:                        14:58:04   Log-Likelihood:                -2526.7\n",
            "No. Observations:                 342   AIC:                             5061.\n",
            "Df Residuals:                     338   BIC:                             5077.\n",
            "Df Model:                           3                                         \n",
            "Covariance Type:            nonrobust                                         \n",
            "=======================================================================================\n",
            "                          coef    std err          t      P>|t|      [0.025      0.975]\n",
            "---------------------------------------------------------------------------------------\n",
            "const               -6424.7647    561.469    -11.443      0.000   -7529.179   -5320.351\n",
            "dlugosc_dzioba_mm       4.1618      5.329      0.781      0.435      -6.321      14.644\n",
            "szerokosc_dzioba_mm    20.0495     13.694      1.464      0.144      -6.887      46.986\n",
            "dlugosc_pletwy_mm      50.2692      2.477     20.293      0.000      45.397      55.142\n",
            "==============================================================================\n",
            "Omnibus:                        5.263   Durbin-Watson:                   1.591\n",
            "Prob(Omnibus):                  0.072   Jarque-Bera (JB):                5.129\n",
            "Skew:                           0.298   Prob(JB):                       0.0770\n",
            "Kurtosis:                       3.065   Cond. No.                     5.46e+03\n",
            "==============================================================================\n",
            "\n",
            "Notes:\n",
            "[1] Standard Errors assume that the covariance matrix of the errors is correctly specified.\n",
            "[2] The condition number is large, 5.46e+03. This might indicate that there are\n",
            "strong multicollinearity or other numerical problems.\n"
          ]
        }
      ]
    },
    {
      "cell_type": "code",
      "source": [
        "import matplotlib.pyplot as plt\n",
        "\n",
        "# Obliczanie reszt\n",
        "residuals = model.resid\n",
        "\n",
        "# Obliczanie wartości przewidywanych\n",
        "predicted_values = model.fittedvalues\n",
        "\n",
        "# Wykres rozrzutu reszt\n",
        "plt.figure(figsize=(8,6))\n",
        "plt.scatter(predicted_values, residuals, color='blue', alpha=0.5)\n",
        "plt.axhline(0, color='red', linestyle='--')\n",
        "plt.title('Wykres rozrzutu reszt modelu')\n",
        "plt.xlabel('Wartości przewidywane')\n",
        "plt.ylabel('Reszty')\n",
        "plt.show()\n"
      ],
      "metadata": {
        "colab": {
          "base_uri": "https://localhost:8080/",
          "height": 498
        },
        "id": "UNqNj5gfaDsl",
        "outputId": "9d2e7467-a6af-4a60-908d-84733a35d346"
      },
      "execution_count": 46,
      "outputs": [
        {
          "output_type": "display_data",
          "data": {
            "text/plain": [
              "<Figure size 800x600 with 1 Axes>"
            ],
            "image/png": "[encoded data removed]"
          },
          "metadata": {}
        }
      ]
    },
    {
      "cell_type": "markdown",
      "source": [
        "Model regresji liniowej R²: Otrzymany wynik dla modelu regresji liniowej był 0.54, co oznacza, że model wyjaśnia tylko około 54% zmienności masy ciała pingwina na podstawie długości dzioba, szerokości dzioba i długości płetwy. To dość niski wynik, co sugeruje, że regresja liniowa nie jest najlepszym modelem do tych danych.\n"
      ],
      "metadata": {
        "id": "7teupsC5cA5d"
      }
    },
    {
      "cell_type": "markdown",
      "source": [
        "**Model regresji wielomianowej**"
      ],
      "metadata": {
        "id": "04tLW_4x9UaD"
      }
    },
    {
      "cell_type": "code",
      "source": [
        "import statsmodels.stats.api as sms\n",
        "\n",
        "# Test Breuscha-Pagana\n",
        "bp_test = sms.het_breuschpagan(residuals, X)\n",
        "print(\"Test Breuscha-Pagana:\")\n",
        "print(f\"Statystyka testu: {bp_test[0]}\")\n",
        "print(f\"P-value: {bp_test[1]}\")\n"
      ],
      "metadata": {
        "colab": {
          "base_uri": "https://localhost:8080/"
        },
        "id": "C4YjGa4jaauv",
        "outputId": "9b0fcfb8-2697-4ab8-cc34-cacb0586c09c"
      },
      "execution_count": 47,
      "outputs": [
        {
          "output_type": "stream",
          "name": "stdout",
          "text": [
            "Test Breuscha-Pagana:\n",
            "Statystyka testu: 3.572460114403865\n",
            "P-value: 0.3114851720985836\n"
          ]
        }
      ]
    },
    {
      "cell_type": "code",
      "source": [
        "import numpy as np\n",
        "\n",
        "# Nowe dane wejściowe\n",
        "new_data = pd.DataFrame({\n",
        "    'const': [1],\n",
        "    'dlugosc_dzioba_mm': [46],\n",
        "    'szerokosc_dzioba_mm': [21],\n",
        "    'dlugosc_pletwy_mm': [210]\n",
        "})\n",
        "\n",
        "# Predykcja\n",
        "predicted_mass = model.predict(new_data)\n",
        "print(f\"Przewidywana masa ciała pingwina: {predicted_mass[0]:.2f} g\")\n"
      ],
      "metadata": {
        "colab": {
          "base_uri": "https://localhost:8080/"
        },
        "id": "APodg6SAaf9F",
        "outputId": "eabe773a-d2a9-46f2-93e8-f09857bc6b44"
      },
      "execution_count": 48,
      "outputs": [
        {
          "output_type": "stream",
          "name": "stdout",
          "text": [
            "Przewidywana masa ciała pingwina: 4744.26 g\n"
          ]
        }
      ]
    },
    {
      "cell_type": "code",
      "source": [
        "from sklearn.preprocessing import PolynomialFeatures\n",
        "from sklearn.linear_model import LinearRegression\n",
        "from sklearn.model_selection import train_test_split"
      ],
      "metadata": {
        "id": "3lQry4wLarUa"
      },
      "execution_count": 49,
      "outputs": []
    },
    {
      "cell_type": "code",
      "source": [
        "X = data[['dlugosc_pletwy_mm']]\n",
        "y = data['masa_ciala_g']\n"
      ],
      "metadata": {
        "id": "4ND2xrv7asy7"
      },
      "execution_count": 50,
      "outputs": []
    },
    {
      "cell_type": "code",
      "source": [
        "X_train, X_test, y_train, y_test = train_test_split(X, y, test_size=0.2, random_state=42)"
      ],
      "metadata": {
        "id": "Lg_haPHZa2d9"
      },
      "execution_count": 51,
      "outputs": []
    },
    {
      "cell_type": "code",
      "source": [
        "poly = PolynomialFeatures(degree=2)\n",
        "X_poly_train = poly.fit_transform(X_train)"
      ],
      "metadata": {
        "id": "p8vVQeT0a3tX"
      },
      "execution_count": 52,
      "outputs": []
    },
    {
      "cell_type": "code",
      "source": [
        "model = LinearRegression()\n",
        "model.fit(X_poly_train, y_train)"
      ],
      "metadata": {
        "colab": {
          "base_uri": "https://localhost:8080/",
          "height": 80
        },
        "id": "aKnnJx5Pa6al",
        "outputId": "128cef42-4859-430c-8a41-57f5a3326bd8"
      },
      "execution_count": 53,
      "outputs": [
        {
          "output_type": "execute_result",
          "data": {
            "text/plain": [
              "LinearRegression()"
            ],
            "text/html": [
              "<style>#sk-container-id-2 {\n",
              "  /* Definition of color scheme common for light and dark mode */\n",
              "  --sklearn-color-text: #000;\n",
              "  --sklearn-color-text-muted: #666;\n",
              "  --sklearn-color-line: gray;\n",
              "  /* Definition of color scheme for unfitted estimators */\n",
              "  --sklearn-color-unfitted-level-0: #fff5e6;\n",
              "  --sklearn-color-unfitted-level-1: #f6e4d2;\n",
              "  --sklearn-color-unfitted-level-2: #ffe0b3;\n",
              "  --sklearn-color-unfitted-level-3: chocolate;\n",
              "  /* Definition of color scheme for fitted estimators */\n",
              "  --sklearn-color-fitted-level-0: #f0f8ff;\n",
              "  --sklearn-color-fitted-level-1: #d4ebff;\n",
              "  --sklearn-color-fitted-level-2: #b3dbfd;\n",
              "  --sklearn-color-fitted-level-3: cornflowerblue;\n",
              "\n",
              "  /* Specific color for light theme */\n",
              "  --sklearn-color-text-on-default-background: var(--sg-text-color, var(--theme-code-foreground, var(--jp-content-font-color1, black)));\n",
              "  --sklearn-color-background: var(--sg-background-color, var(--theme-background, var(--jp-layout-color0, white)));\n",
              "  --sklearn-color-border-box: var(--sg-text-color, var(--theme-code-foreground, var(--jp-content-font-color1, black)));\n",
              "  --sklearn-color-icon: #696969;\n",
              "\n",
              "  @media (prefers-color-scheme: dark) {\n",
              "    /* Redefinition of color scheme for dark theme */\n",
              "    --sklearn-color-text-on-default-background: var(--sg-text-color, var(--theme-code-foreground, var(--jp-content-font-color1, white)));\n",
              "    --sklearn-color-background: var(--sg-background-color, var(--theme-background, var(--jp-layout-color0, #111)));\n",
              "    --sklearn-color-border-box: var(--sg-text-color, var(--theme-code-foreground, var(--jp-content-font-color1, white)));\n",
              "    --sklearn-color-icon: #878787;\n",
              "  }\n",
              "}\n",
              "\n",
              "#sk-container-id-2 {\n",
              "  color: var(--sklearn-color-text);\n",
              "}\n",
              "\n",
              "#sk-container-id-2 pre {\n",
              "  padding: 0;\n",
              "}\n",
              "\n",
              "#sk-container-id-2 input.sk-hidden--visually {\n",
              "  border: 0;\n",
              "  clip: rect(1px 1px 1px 1px);\n",
              "  clip: rect(1px, 1px, 1px, 1px);\n",
              "  height: 1px;\n",
              "  margin: -1px;\n",
              "  overflow: hidden;\n",
              "  padding: 0;\n",
              "  position: absolute;\n",
              "  width: 1px;\n",
              "}\n",
              "\n",
              "#sk-container-id-2 div.sk-dashed-wrapped {\n",
              "  border: 1px dashed var(--sklearn-color-line);\n",
              "  margin: 0 0.4em 0.5em 0.4em;\n",
              "  box-sizing: border-box;\n",
              "  padding-bottom: 0.4em;\n",
              "  background-color: var(--sklearn-color-background);\n",
              "}\n",
              "\n",
              "#sk-container-id-2 div.sk-container {\n",
              "  /* jupyter's `normalize.less` sets `[hidden] { display: none; }`\n",
              "     but bootstrap.min.css set `[hidden] { display: none !important; }`\n",
              "     so we also need the `!important` here to be able to override the\n",
              "     default hidden behavior on the sphinx rendered scikit-learn.org.\n",
              "     See: https://github.com/scikit-learn/scikit-learn/issues/21755 */\n",
              "  display: inline-block !important;\n",
              "  position: relative;\n",
              "}\n",
              "\n",
              "#sk-container-id-2 div.sk-text-repr-fallback {\n",
              "  display: none;\n",
              "}\n",
              "\n",
              "div.sk-parallel-item,\n",
              "div.sk-serial,\n",
              "div.sk-item {\n",
              "  /* draw centered vertical line to link estimators */\n",
              "  background-image: linear-gradient(var(--sklearn-color-text-on-default-background), var(--sklearn-color-text-on-default-background));\n",
              "  background-size: 2px 100%;\n",
              "  background-repeat: no-repeat;\n",
              "  background-position: center center;\n",
              "}\n",
              "\n",
              "/* Parallel-specific style estimator block */\n",
              "\n",
              "#sk-container-id-2 div.sk-parallel-item::after {\n",
              "  content: \"\";\n",
              "  width: 100%;\n",
              "  border-bottom: 2px solid var(--sklearn-color-text-on-default-background);\n",
              "  flex-grow: 1;\n",
              "}\n",
              "\n",
              "#sk-container-id-2 div.sk-parallel {\n",
              "  display: flex;\n",
              "  align-items: stretch;\n",
              "  justify-content: center;\n",
              "  background-color: var(--sklearn-color-background);\n",
              "  position: relative;\n",
              "}\n",
              "\n",
              "#sk-container-id-2 div.sk-parallel-item {\n",
              "  display: flex;\n",
              "  flex-direction: column;\n",
              "}\n",
              "\n",
              "#sk-container-id-2 div.sk-parallel-item:first-child::after {\n",
              "  align-self: flex-end;\n",
              "  width: 50%;\n",
              "}\n",
              "\n",
              "#sk-container-id-2 div.sk-parallel-item:last-child::after {\n",
              "  align-self: flex-start;\n",
              "  width: 50%;\n",
              "}\n",
              "\n",
              "#sk-container-id-2 div.sk-parallel-item:only-child::after {\n",
              "  width: 0;\n",
              "}\n",
              "\n",
              "/* Serial-specific style estimator block */\n",
              "\n",
              "#sk-container-id-2 div.sk-serial {\n",
              "  display: flex;\n",
              "  flex-direction: column;\n",
              "  align-items: center;\n",
              "  background-color: var(--sklearn-color-background);\n",
              "  padding-right: 1em;\n",
              "  padding-left: 1em;\n",
              "}\n",
              "\n",
              "\n",
              "/* Toggleable style: style used for estimator/Pipeline/ColumnTransformer box that is\n",
              "clickable and can be expanded/collapsed.\n",
              "- Pipeline and ColumnTransformer use this feature and define the default style\n",
              "- Estimators will overwrite some part of the style using the `sk-estimator` class\n",
              "*/\n",
              "\n",
              "/* Pipeline and ColumnTransformer style (default) */\n",
              "\n",
              "#sk-container-id-2 div.sk-toggleable {\n",
              "  /* Default theme specific background. It is overwritten whether we have a\n",
              "  specific estimator or a Pipeline/ColumnTransformer */\n",
              "  background-color: var(--sklearn-color-background);\n",
              "}\n",
              "\n",
              "/* Toggleable label */\n",
              "#sk-container-id-2 label.sk-toggleable__label {\n",
              "  cursor: pointer;\n",
              "  display: flex;\n",
              "  width: 100%;\n",
              "  margin-bottom: 0;\n",
              "  padding: 0.5em;\n",
              "  box-sizing: border-box;\n",
              "  text-align: center;\n",
              "  align-items: start;\n",
              "  justify-content: space-between;\n",
              "  gap: 0.5em;\n",
              "}\n",
              "\n",
              "#sk-container-id-2 label.sk-toggleable__label .caption {\n",
              "  font-size: 0.6rem;\n",
              "  font-weight: lighter;\n",
              "  color: var(--sklearn-color-text-muted);\n",
              "}\n",
              "\n",
              "#sk-container-id-2 label.sk-toggleable__label-arrow:before {\n",
              "  /* Arrow on the left of the label */\n",
              "  content: \"▸\";\n",
              "  float: left;\n",
              "  margin-right: 0.25em;\n",
              "  color: var(--sklearn-color-icon);\n",
              "}\n",
              "\n",
              "#sk-container-id-2 label.sk-toggleable__label-arrow:hover:before {\n",
              "  color: var(--sklearn-color-text);\n",
              "}\n",
              "\n",
              "/* Toggleable content - dropdown */\n",
              "\n",
              "#sk-container-id-2 div.sk-toggleable__content {\n",
              "  max-height: 0;\n",
              "  max-width: 0;\n",
              "  overflow: hidden;\n",
              "  text-align: left;\n",
              "  /* unfitted */\n",
              "  background-color: var(--sklearn-color-unfitted-level-0);\n",
              "}\n",
              "\n",
              "#sk-container-id-2 div.sk-toggleable__content.fitted {\n",
              "  /* fitted */\n",
              "  background-color: var(--sklearn-color-fitted-level-0);\n",
              "}\n",
              "\n",
              "#sk-container-id-2 div.sk-toggleable__content pre {\n",
              "  margin: 0.2em;\n",
              "  border-radius: 0.25em;\n",
              "  color: var(--sklearn-color-text);\n",
              "  /* unfitted */\n",
              "  background-color: var(--sklearn-color-unfitted-level-0);\n",
              "}\n",
              "\n",
              "#sk-container-id-2 div.sk-toggleable__content.fitted pre {\n",
              "  /* unfitted */\n",
              "  background-color: var(--sklearn-color-fitted-level-0);\n",
              "}\n",
              "\n",
              "#sk-container-id-2 input.sk-toggleable__control:checked~div.sk-toggleable__content {\n",
              "  /* Expand drop-down */\n",
              "  max-height: 200px;\n",
              "  max-width: 100%;\n",
              "  overflow: auto;\n",
              "}\n",
              "\n",
              "#sk-container-id-2 input.sk-toggleable__control:checked~label.sk-toggleable__label-arrow:before {\n",
              "  content: \"▾\";\n",
              "}\n",
              "\n",
              "/* Pipeline/ColumnTransformer-specific style */\n",
              "\n",
              "#sk-container-id-2 div.sk-label input.sk-toggleable__control:checked~label.sk-toggleable__label {\n",
              "  color: var(--sklearn-color-text);\n",
              "  background-color: var(--sklearn-color-unfitted-level-2);\n",
              "}\n",
              "\n",
              "#sk-container-id-2 div.sk-label.fitted input.sk-toggleable__control:checked~label.sk-toggleable__label {\n",
              "  background-color: var(--sklearn-color-fitted-level-2);\n",
              "}\n",
              "\n",
              "/* Estimator-specific style */\n",
              "\n",
              "/* Colorize estimator box */\n",
              "#sk-container-id-2 div.sk-estimator input.sk-toggleable__control:checked~label.sk-toggleable__label {\n",
              "  /* unfitted */\n",
              "  background-color: var(--sklearn-color-unfitted-level-2);\n",
              "}\n",
              "\n",
              "#sk-container-id-2 div.sk-estimator.fitted input.sk-toggleable__control:checked~label.sk-toggleable__label {\n",
              "  /* fitted */\n",
              "  background-color: var(--sklearn-color-fitted-level-2);\n",
              "}\n",
              "\n",
              "#sk-container-id-2 div.sk-label label.sk-toggleable__label,\n",
              "#sk-container-id-2 div.sk-label label {\n",
              "  /* The background is the default theme color */\n",
              "  color: var(--sklearn-color-text-on-default-background);\n",
              "}\n",
              "\n",
              "/* On hover, darken the color of the background */\n",
              "#sk-container-id-2 div.sk-label:hover label.sk-toggleable__label {\n",
              "  color: var(--sklearn-color-text);\n",
              "  background-color: var(--sklearn-color-unfitted-level-2);\n",
              "}\n",
              "\n",
              "/* Label box, darken color on hover, fitted */\n",
              "#sk-container-id-2 div.sk-label.fitted:hover label.sk-toggleable__label.fitted {\n",
              "  color: var(--sklearn-color-text);\n",
              "  background-color: var(--sklearn-color-fitted-level-2);\n",
              "}\n",
              "\n",
              "/* Estimator label */\n",
              "\n",
              "#sk-container-id-2 div.sk-label label {\n",
              "  font-family: monospace;\n",
              "  font-weight: bold;\n",
              "  display: inline-block;\n",
              "  line-height: 1.2em;\n",
              "}\n",
              "\n",
              "#sk-container-id-2 div.sk-label-container {\n",
              "  text-align: center;\n",
              "}\n",
              "\n",
              "/* Estimator-specific */\n",
              "#sk-container-id-2 div.sk-estimator {\n",
              "  font-family: monospace;\n",
              "  border: 1px dotted var(--sklearn-color-border-box);\n",
              "  border-radius: 0.25em;\n",
              "  box-sizing: border-box;\n",
              "  margin-bottom: 0.5em;\n",
              "  /* unfitted */\n",
              "  background-color: var(--sklearn-color-unfitted-level-0);\n",
              "}\n",
              "\n",
              "#sk-container-id-2 div.sk-estimator.fitted {\n",
              "  /* fitted */\n",
              "  background-color: var(--sklearn-color-fitted-level-0);\n",
              "}\n",
              "\n",
              "/* on hover */\n",
              "#sk-container-id-2 div.sk-estimator:hover {\n",
              "  /* unfitted */\n",
              "  background-color: var(--sklearn-color-unfitted-level-2);\n",
              "}\n",
              "\n",
              "#sk-container-id-2 div.sk-estimator.fitted:hover {\n",
              "  /* fitted */\n",
              "  background-color: var(--sklearn-color-fitted-level-2);\n",
              "}\n",
              "\n",
              "/* Specification for estimator info (e.g. \"i\" and \"?\") */\n",
              "\n",
              "/* Common style for \"i\" and \"?\" */\n",
              "\n",
              ".sk-estimator-doc-link,\n",
              "a:link.sk-estimator-doc-link,\n",
              "a:visited.sk-estimator-doc-link {\n",
              "  float: right;\n",
              "  font-size: smaller;\n",
              "  line-height: 1em;\n",
              "  font-family: monospace;\n",
              "  background-color: var(--sklearn-color-background);\n",
              "  border-radius: 1em;\n",
              "  height: 1em;\n",
              "  width: 1em;\n",
              "  text-decoration: none !important;\n",
              "  margin-left: 0.5em;\n",
              "  text-align: center;\n",
              "  /* unfitted */\n",
              "  border: var(--sklearn-color-unfitted-level-1) 1pt solid;\n",
              "  color: var(--sklearn-color-unfitted-level-1);\n",
              "}\n",
              "\n",
              ".sk-estimator-doc-link.fitted,\n",
              "a:link.sk-estimator-doc-link.fitted,\n",
              "a:visited.sk-estimator-doc-link.fitted {\n",
              "  /* fitted */\n",
              "  border: var(--sklearn-color-fitted-level-1) 1pt solid;\n",
              "  color: var(--sklearn-color-fitted-level-1);\n",
              "}\n",
              "\n",
              "/* On hover */\n",
              "div.sk-estimator:hover .sk-estimator-doc-link:hover,\n",
              ".sk-estimator-doc-link:hover,\n",
              "div.sk-label-container:hover .sk-estimator-doc-link:hover,\n",
              ".sk-estimator-doc-link:hover {\n",
              "  /* unfitted */\n",
              "  background-color: var(--sklearn-color-unfitted-level-3);\n",
              "  color: var(--sklearn-color-background);\n",
              "  text-decoration: none;\n",
              "}\n",
              "\n",
              "div.sk-estimator.fitted:hover .sk-estimator-doc-link.fitted:hover,\n",
              ".sk-estimator-doc-link.fitted:hover,\n",
              "div.sk-label-container:hover .sk-estimator-doc-link.fitted:hover,\n",
              ".sk-estimator-doc-link.fitted:hover {\n",
              "  /* fitted */\n",
              "  background-color: var(--sklearn-color-fitted-level-3);\n",
              "  color: var(--sklearn-color-background);\n",
              "  text-decoration: none;\n",
              "}\n",
              "\n",
              "/* Span, style for the box shown on hovering the info icon */\n",
              ".sk-estimator-doc-link span {\n",
              "  display: none;\n",
              "  z-index: 9999;\n",
              "  position: relative;\n",
              "  font-weight: normal;\n",
              "  right: .2ex;\n",
              "  padding: .5ex;\n",
              "  margin: .5ex;\n",
              "  width: min-content;\n",
              "  min-width: 20ex;\n",
              "  max-width: 50ex;\n",
              "  color: var(--sklearn-color-text);\n",
              "  box-shadow: 2pt 2pt 4pt #999;\n",
              "  /* unfitted */\n",
              "  background: var(--sklearn-color-unfitted-level-0);\n",
              "  border: .5pt solid var(--sklearn-color-unfitted-level-3);\n",
              "}\n",
              "\n",
              ".sk-estimator-doc-link.fitted span {\n",
              "  /* fitted */\n",
              "  background: var(--sklearn-color-fitted-level-0);\n",
              "  border: var(--sklearn-color-fitted-level-3);\n",
              "}\n",
              "\n",
              ".sk-estimator-doc-link:hover span {\n",
              "  display: block;\n",
              "}\n",
              "\n",
              "/* \"?\"-specific style due to the `<a>` HTML tag */\n",
              "\n",
              "#sk-container-id-2 a.estimator_doc_link {\n",
              "  float: right;\n",
              "  font-size: 1rem;\n",
              "  line-height: 1em;\n",
              "  font-family: monospace;\n",
              "  background-color: var(--sklearn-color-background);\n",
              "  border-radius: 1rem;\n",
              "  height: 1rem;\n",
              "  width: 1rem;\n",
              "  text-decoration: none;\n",
              "  /* unfitted */\n",
              "  color: var(--sklearn-color-unfitted-level-1);\n",
              "  border: var(--sklearn-color-unfitted-level-1) 1pt solid;\n",
              "}\n",
              "\n",
              "#sk-container-id-2 a.estimator_doc_link.fitted {\n",
              "  /* fitted */\n",
              "  border: var(--sklearn-color-fitted-level-1) 1pt solid;\n",
              "  color: var(--sklearn-color-fitted-level-1);\n",
              "}\n",
              "\n",
              "/* On hover */\n",
              "#sk-container-id-2 a.estimator_doc_link:hover {\n",
              "  /* unfitted */\n",
              "  background-color: var(--sklearn-color-unfitted-level-3);\n",
              "  color: var(--sklearn-color-background);\n",
              "  text-decoration: none;\n",
              "}\n",
              "\n",
              "#sk-container-id-2 a.estimator_doc_link.fitted:hover {\n",
              "  /* fitted */\n",
              "  background-color: var(--sklearn-color-fitted-level-3);\n",
              "}\n",
              "</style><div id=\"sk-container-id-2\" class=\"sk-top-container\"><div class=\"sk-text-repr-fallback\"><pre>LinearRegression()</pre><b>In a Jupyter environment, please rerun this cell to show the HTML representation or trust the notebook. <br />On GitHub, the HTML representation is unable to render, please try loading this page with nbviewer.org.</b></div><div class=\"sk-container\" hidden><div class=\"sk-item\"><div class=\"sk-estimator fitted sk-toggleable\"><input class=\"sk-toggleable__control sk-hidden--visually\" id=\"sk-estimator-id-2\" type=\"checkbox\" checked><label for=\"sk-estimator-id-2\" class=\"sk-toggleable__label fitted sk-toggleable__label-arrow\"><div><div>LinearRegression</div></div><div><a class=\"sk-estimator-doc-link fitted\" rel=\"noreferrer\" target=\"_blank\" href=\"https://scikit-learn.org/1.6/modules/generated/sklearn.linear_model.LinearRegression.html\">?<span>Documentation for LinearRegression</span></a><span class=\"sk-estimator-doc-link fitted\">i<span>Fitted</span></span></div></label><div class=\"sk-toggleable__content fitted\"><pre>LinearRegression()</pre></div> </div></div></div></div>"
            ]
          },
          "metadata": {},
          "execution_count": 53
        }
      ]
    },
    {
      "cell_type": "code",
      "source": [
        "# Predykcje na zbiorze testowym\n",
        "X_poly_test = poly.transform(X_test)\n",
        "y_pred = model.predict(X_poly_test)"
      ],
      "metadata": {
        "id": "R1r8ezaQbDKv"
      },
      "execution_count": 54,
      "outputs": []
    },
    {
      "cell_type": "code",
      "source": [
        "\n",
        "# Obliczanie R^2\n",
        "r2 = model.score(X_poly_test, y_test)\n",
        "print(f\"R^2 dla modelu wielomianowego: {r2:.4f}\")"
      ],
      "metadata": {
        "colab": {
          "base_uri": "https://localhost:8080/"
        },
        "id": "AwZFM4KIbEr0",
        "outputId": "a44ffcd7-70fd-47a6-8249-91d6c131492b"
      },
      "execution_count": 55,
      "outputs": [
        {
          "output_type": "stream",
          "name": "stdout",
          "text": [
            "R^2 dla modelu wielomianowego: 0.8273\n"
          ]
        }
      ]
    },
    {
      "cell_type": "code",
      "source": [
        "plt.scatter(X_test, y_test, color='blue', label='Dane rzeczywiste')\n",
        "plt.plot(X_test, y_pred, color='red', label='Model regresji')\n",
        "plt.xlabel('Długość płetwy (mm)')\n",
        "plt.ylabel('Masa ciała (g)')\n",
        "plt.title('Regresja wielomianowa (stopień 2)')\n",
        "plt.legend()\n",
        "plt.show()"
      ],
      "metadata": {
        "colab": {
          "base_uri": "https://localhost:8080/",
          "height": 473
        },
        "id": "fq1QRU32bKdp",
        "outputId": "0ca3ae59-aeaa-4aa5-eb4b-c871cb6d6468"
      },
      "execution_count": 56,
      "outputs": [
        {
          "output_type": "display_data",
          "data": {
            "text/plain": [
              "<Figure size 640x480 with 1 Axes>"
            ],
            "image/png": "[encoded data removed]"
          },
          "metadata": {}
        }
      ]
    },
    {
      "cell_type": "markdown",
      "source": [
        "Model regresji wielomianowej (stopień 2)\n",
        "R²: Dla modelu wielomianowego uzyskaliśmy wyższy R² ≥ 0.75, co oznacza, że model lepiej wyjaśnia zmienność zmiennej zależnej (masy ciała) na podstawie zmiennej niezależnej (np. długości płetwy)."
      ],
      "metadata": {
        "id": "N-2-8z_KcKYN"
      }
    },
    {
      "cell_type": "markdown",
      "source": [
        "**Wnioski**"
      ],
      "metadata": {
        "id": "QVDWBoo2b1ZQ"
      }
    },
    {
      "cell_type": "markdown",
      "source": [
        "Model regresji liniowej:\n",
        "Prosty, ale mało elastyczny.\n",
        "R² = 0.54 wskazuje na słabe dopasowanie.\n",
        "Lepszy w przypadku, gdy zależność między zmiennymi jest liniowa.\n",
        "\n",
        "\n",
        "Model regresji wielomianowej (stopień 2):\n",
        "Lepszy, gdy zależność między zmiennymi jest nieliniowa.\n",
        "R² ≥ 0.75 wskazuje na lepsze dopasowanie do danych.\n",
        "Zwiększa elastyczność modelu, ale może prowadzić do przeuczenia, zwłaszcza przy wyższych stopniach wielomianu.\n",
        "\n"
      ],
      "metadata": {
        "id": "n2RgFh-Gbo-e"
      }
    },
    {
      "cell_type": "markdown",
      "source": [
        "Jeśli zależność między zmiennymi jest rzeczywiście nieliniowa, regresja wielomianowa będzie lepszym wyborem, ponieważ oferuje lepsze dopasowanie i przewidywania.\n",
        "W przypadku dużych danych i złożoności modelu warto także monitorować problem przeuczenia, aby model dobrze generalizował."
      ],
      "metadata": {
        "id": "4e_PNkHvcj7V"
      }
    },
    {
      "cell_type": "code",
      "source": [],
      "metadata": {
        "id": "6aHYu_LPckeL"
      },
      "execution_count": null,
      "outputs": []
    }
  ],
  "metadata": {
    "kernelspec": {
      "display_name": ".venv",
      "language": "python",
      "name": "python3"
    },
    "language_info": {
      "codemirror_mode": {
        "name": "ipython",
        "version": 3
      },
      "file_extension": ".py",
      "mimetype": "text/x-python",
      "name": "python",
      "nbconvert_exporter": "python",
      "pygments_lexer": "ipython3",
      "version": "3.13.0"
    },
    "colab": {
      "provenance": []
    }
  },
  "nbformat": 4,
  "nbformat_minor": 0
}